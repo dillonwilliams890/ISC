{
 "cells": [
  {
   "cell_type": "code",
   "execution_count": 1,
   "metadata": {},
   "outputs": [
    {
     "name": "stdout",
     "output_type": "stream",
     "text": [
      "WARNING:tensorflow:From c:\\Users\\will6605\\Documents\\vscode\\.venv\\lib\\site-packages\\keras\\src\\losses.py:2976: The name tf.losses.sparse_softmax_cross_entropy is deprecated. Please use tf.compat.v1.losses.sparse_softmax_cross_entropy instead.\n",
      "\n"
     ]
    }
   ],
   "source": [
    "from ISC_utils import*"
   ]
  },
  {
   "cell_type": "code",
   "execution_count": 3,
   "metadata": {},
   "outputs": [
    {
     "name": "stderr",
     "output_type": "stream",
     "text": [
      "c:\\Users\\will6605\\Documents\\vscode\\.venv\\lib\\site-packages\\numpy\\core\\fromnumeric.py:3504: RuntimeWarning: Mean of empty slice.\n",
      "  return _methods._mean(a, axis=axis, dtype=dtype,\n",
      "c:\\Users\\will6605\\Documents\\vscode\\.venv\\lib\\site-packages\\numpy\\core\\_methods.py:129: RuntimeWarning: invalid value encountered in scalar divide\n",
      "  ret = ret.dtype.type(ret / rcount)\n"
     ]
    }
   ],
   "source": [
    "path=('')# path to file\n",
    "oxygens =['0','2','3','4','5','7','12','21']\n",
    "files =[''] #files\n",
    "\n",
    "data=anaylsis(path, oxygens, files)"
   ]
  },
  {
   "cell_type": "code",
   "execution_count": null,
   "metadata": {},
   "outputs": [],
   "source": [
    "clusters=[3,3,3,2,2,3,1,1]\n",
    "data2=data.copy(deep=True)\n",
    "data2['oxy'] = data2['oxy'].astype(int)\n",
    "data3, sort, SO2, LPF, polys, solys, SO2s, SO2p, p50, SO2sstd, SO2pstd, num_polys, num_solys = fractions(data2, clusters) "
   ]
  },
  {
   "cell_type": "code",
   "execution_count": null,
   "metadata": {},
   "outputs": [],
   "source": [
    "solystrain=strain(solys,[6e-7,1e-6])\n",
    "df1=pd.DataFrame(solystrain[\"params\"].tolist()).add_prefix(\"c\")\n",
    "solystrain = pd.concat([solystrain.reset_index(), df1], axis=1)\n",
    "solystrain=solystrain.dropna()\n",
    "solystrain.groupby('oxy', as_index=False)['c0'].median()\n",
    "polystrain=strain(polys,[6e-3,1e-6])\n",
    "df2=pd.DataFrame(polystrain[\"params\"].tolist()).add_prefix(\"c\")\n",
    "polystrain = pd.concat([polystrain.reset_index(), df2], axis=1)\n",
    "polystrain=polystrain.dropna()"
   ]
  },
  {
   "cell_type": "code",
   "execution_count": null,
   "metadata": {},
   "outputs": [],
   "source": [
    "LABELS = [\"poly\", \"soly\"] #these are the two labels to classify to\n",
    "\n",
    "IMG_SIZE = 100 #image isze is 100x100\n",
    "\n",
    "model=keras.models.load_model('CNN/model5.h5', safe_mode=False) #load the model"
   ]
  },
  {
   "cell_type": "code",
   "execution_count": null,
   "metadata": {},
   "outputs": [],
   "source": [
    "count=1\n",
    "threshold=0.5 #threshol is set at 0.5 to start\n",
    "solystrain['pred'] = np.nan #set the predicitin column to nan to start\n",
    "oxy=[0,2,3,4,5,7,12,21] # List you oxygen tensions\n",
    "for i in range(len(oxy)): #run through the list of oxygen tensions\n",
    "    df = solystrain.loc[solystrain['oxy'] == oxy[i]] #make a dataframe of each individual O2 (helps with speed)\n",
    "    for index,c in df.iterrows(): #run through the dataframe\n",
    "        img = np.zeros([100,100,3]) #CNN was trained on 3d images\n",
    "        img[:,:,0] = c.cell_img3\n",
    "        img[:,:,1] = c.cell_img3\n",
    "        img[:,:,2] = c.cell_img3\n",
    "        new_img = cv.resize(img, (IMG_SIZE, IMG_SIZE))\n",
    "        new_shape = new_img.reshape(-1, IMG_SIZE, IMG_SIZE, 3)\n",
    "        predictions = model.predict(new_shape) #this is the line that calls the CNN to classify\n",
    "        print(predictions) #print the %prediciton\n",
    "        print(LABELS[np.argmax(predictions)]) #Print the accosicated label\n",
    "        # sort.label[index]=(np.argmax(np.where(predictions > threshold, 1, 0))) #add the correct label to the origina dataframe\n",
    "        solystrain.pred[index]=predictions[0][1] #add the correct prediction % to dataframe (you can use this column to adjust threshold without rerunning CNN)\n",
    "        if predictions[0][1]>threshold:\n",
    "            solystrain.label[index]=1\n",
    "        else:\n",
    "            solystrain.label[index]=0\n",
    "        # print(count)\n",
    "        count +=1\n"
   ]
  }
 ],
 "metadata": {
  "kernelspec": {
   "display_name": ".venv",
   "language": "python",
   "name": "python3"
  },
  "language_info": {
   "codemirror_mode": {
    "name": "ipython",
    "version": 3
   },
   "file_extension": ".py",
   "mimetype": "text/x-python",
   "name": "python",
   "nbconvert_exporter": "python",
   "pygments_lexer": "ipython3",
   "version": "3.10.0"
  }
 },
 "nbformat": 4,
 "nbformat_minor": 2
}
